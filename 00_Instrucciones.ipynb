{
  "nbformat": 4,
  "nbformat_minor": 0,
  "metadata": {
    "colab": {
      "name": "00-Instrucciones.ipynb",
      "provenance": [],
      "authorship_tag": "ABX9TyOG8dV2EUEFnjF+3wIbPdLO",
      "include_colab_link": true
    },
    "kernelspec": {
      "name": "python3",
      "display_name": "Python 3"
    },
    "language_info": {
      "name": "python"
    }
  },
  "cells": [
    {
      "cell_type": "markdown",
      "metadata": {
        "id": "view-in-github",
        "colab_type": "text"
      },
      "source": [
        "<a href=\"https://colab.research.google.com/github/anaidg/Seminario-Gestion_Cartera/blob/main/00_Instrucciones.ipynb\" target=\"_parent\"><img src=\"https://colab.research.google.com/assets/colab-badge.svg\" alt=\"Open In Colab\"/></a>"
      ]
    },
    {
      "cell_type": "markdown",
      "metadata": {
        "id": "ceI3v8Vl9mCI"
      },
      "source": [
        "\n",
        "#Guía general para los notebooks del curso\n",
        "\n",
        "El notebook se puede ejecutar en cualquier editor de python\n",
        "\n",
        "Se debe ejecutar en el orden como esta escrito para que no fallé y solicitar los permisos de acceso al repositorio de los datos a Diana Toro al correo diana.toro@udea.edu.co\n",
        "para realizar la respectiva gestión.\n"
      ]
    }
  ]
}